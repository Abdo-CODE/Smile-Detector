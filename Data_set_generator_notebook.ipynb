{
 "cells": [
  {
   "cell_type": "code",
   "execution_count": 1,
   "metadata": {},
   "outputs": [],
   "source": [
    "import cv2\n",
    "import os"
   ]
  },
  {
   "cell_type": "code",
   "execution_count": 4,
   "metadata": {},
   "outputs": [],
   "source": [
    "vid=[\"Microexpression_of_Surprise.mp4\",\"Microexpression_of_Fear.mp4\",\"Microexpression_of_Disgust.mp4\"]\n",
    "em=[\"Surprise\",\"Fear\",\"Disgust\"]\n",
    "for i in range(0,3):\n",
    "    cap = cv2.VideoCapture(vid[i])\n",
    "    detector=cv2.CascadeClassifier('haarcascade_frontalface_default.xml')\n",
    "    person_name= em[i]\n",
    "    sampleNum = 0\n",
    "    fwd_faces = 10\n",
    "    while(True):\n",
    "        ret, img = cap.read()\n",
    "        gray = cv2.cvtColor(img, cv2.COLOR_BGR2GRAY)\n",
    "        faces = detector.detectMultiScale(gray, 1.3, 5)\n",
    "        for (x,y,w,h) in faces:\n",
    "            cv2.rectangle(img,(x,y),(x+w,y+h),(255,0,0),2)\n",
    "\n",
    "            #incrementing sample number \n",
    "            sampleNum=sampleNum+1\n",
    "            if sampleNum<fwd_faces:\n",
    "                continue\n",
    "            #saving the captured face in the dataset folder\n",
    "            cv2.imwrite(f\"ID.\"+str(person_name) +'.'+ str(sampleNum-fwd_faces) + \".jpg\", gray[y:y+h,x:x+w])\n",
    "\n",
    "            cv2.imshow('frame',img)\n",
    "        #wait for 100 miliseconds \n",
    "        if cv2.waitKey(100) & 0xFF == ord('q'):\n",
    "            break\n",
    "        # break if the sample number is morethan 60\n",
    "        elif sampleNum>fwd_faces+60:\n",
    "            break\n",
    "    cap.release()\n",
    "    cv2.destroyAllWindows()"
   ]
  },
  {
   "cell_type": "code",
   "execution_count": null,
   "metadata": {
    "collapsed": true
   },
   "outputs": [],
   "source": []
  }
 ],
 "metadata": {
  "kernelspec": {
   "display_name": "Python 3",
   "language": "python",
   "name": "python3"
  },
  "language_info": {
   "codemirror_mode": {
    "name": "ipython",
    "version": 3
   },
   "file_extension": ".py",
   "mimetype": "text/x-python",
   "name": "python",
   "nbconvert_exporter": "python",
   "pygments_lexer": "ipython3",
   "version": "3.8.3"
  }
 },
 "nbformat": 4,
 "nbformat_minor": 2
}
